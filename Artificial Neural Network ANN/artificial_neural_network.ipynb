{
 "cells": [
  {
   "cell_type": "markdown",
   "metadata": {
    "colab_type": "text",
    "id": "lP6JLo1tGNBg"
   },
   "source": [
    "# Artificial Neural Network"
   ]
  },
  {
   "cell_type": "markdown",
   "metadata": {
    "colab_type": "text",
    "id": "gWZyYmS_UE_L"
   },
   "source": [
    "### Importing the libraries"
   ]
  },
  {
   "cell_type": "code",
   "execution_count": 1,
   "metadata": {},
   "outputs": [],
   "source": [
    "#pip install tensorflow"
   ]
  },
  {
   "cell_type": "code",
   "execution_count": 2,
   "metadata": {},
   "outputs": [],
   "source": [
    "#pip show tensorflow"
   ]
  },
  {
   "cell_type": "code",
   "execution_count": 3,
   "metadata": {
    "colab": {},
    "colab_type": "code",
    "id": "MxkJoQBkUIHC"
   },
   "outputs": [
    {
     "name": "stdout",
     "output_type": "stream",
     "text": [
      "WARNING:tensorflow:From C:\\Users\\Bhaskar Kumbhar\\anaconda3\\lib\\site-packages\\keras\\src\\losses.py:2976: The name tf.losses.sparse_softmax_cross_entropy is deprecated. Please use tf.compat.v1.losses.sparse_softmax_cross_entropy instead.\n",
      "\n"
     ]
    }
   ],
   "source": [
    "import numpy as np\n",
    "import pandas as pd\n",
    "import tensorflow as tf\n",
    "\n",
    "from sklearn.metrics import classification_report,confusion_matrix\n",
    "from sklearn import preprocessing\n",
    "import seaborn as sns\n",
    "import matplotlib.pyplot as plt"
   ]
  },
  {
   "cell_type": "code",
   "execution_count": 4,
   "metadata": {
    "colab": {
     "base_uri": "https://localhost:8080/",
     "height": 34
    },
    "colab_type": "code",
    "id": "ZaTwK7ojXr2F",
    "outputId": "0b27a96d-d11a-43e8-ab4b-87c1f01896fe"
   },
   "outputs": [
    {
     "data": {
      "text/plain": [
       "'2.15.0'"
      ]
     },
     "execution_count": 4,
     "metadata": {},
     "output_type": "execute_result"
    }
   ],
   "source": [
    "tf.__version__"
   ]
  },
  {
   "cell_type": "markdown",
   "metadata": {
    "colab_type": "text",
    "id": "1E0Q3aoKUCRX"
   },
   "source": [
    "## Part 1 - Data Preprocessing"
   ]
  },
  {
   "cell_type": "markdown",
   "metadata": {
    "colab_type": "text",
    "id": "cKWAkFVGUU0Z"
   },
   "source": [
    "### Importing the dataset"
   ]
  },
  {
   "cell_type": "code",
   "execution_count": 5,
   "metadata": {
    "colab": {},
    "colab_type": "code",
    "id": "MXUkhkMfU4wq"
   },
   "outputs": [],
   "source": [
    "dataset = pd.read_csv('Churn_Modelling.csv')"
   ]
  },
  {
   "cell_type": "code",
   "execution_count": 6,
   "metadata": {},
   "outputs": [
    {
     "data": {
      "text/html": [
       "<div>\n",
       "<style scoped>\n",
       "    .dataframe tbody tr th:only-of-type {\n",
       "        vertical-align: middle;\n",
       "    }\n",
       "\n",
       "    .dataframe tbody tr th {\n",
       "        vertical-align: top;\n",
       "    }\n",
       "\n",
       "    .dataframe thead th {\n",
       "        text-align: right;\n",
       "    }\n",
       "</style>\n",
       "<table border=\"1\" class=\"dataframe\">\n",
       "  <thead>\n",
       "    <tr style=\"text-align: right;\">\n",
       "      <th></th>\n",
       "      <th>CustomerId</th>\n",
       "      <th>CreditScore</th>\n",
       "      <th>Gender</th>\n",
       "      <th>Age</th>\n",
       "      <th>Tenure</th>\n",
       "      <th>Balance</th>\n",
       "      <th>NumOfProducts</th>\n",
       "      <th>HasCrCard</th>\n",
       "      <th>IsActiveMember</th>\n",
       "      <th>EstimatedSalary</th>\n",
       "      <th>Exited</th>\n",
       "    </tr>\n",
       "  </thead>\n",
       "  <tbody>\n",
       "    <tr>\n",
       "      <th>0</th>\n",
       "      <td>15634602</td>\n",
       "      <td>619</td>\n",
       "      <td>Female</td>\n",
       "      <td>42</td>\n",
       "      <td>2</td>\n",
       "      <td>0.00</td>\n",
       "      <td>1</td>\n",
       "      <td>1</td>\n",
       "      <td>1</td>\n",
       "      <td>101348.88</td>\n",
       "      <td>1</td>\n",
       "    </tr>\n",
       "    <tr>\n",
       "      <th>1</th>\n",
       "      <td>15647311</td>\n",
       "      <td>608</td>\n",
       "      <td>Female</td>\n",
       "      <td>41</td>\n",
       "      <td>1</td>\n",
       "      <td>83807.86</td>\n",
       "      <td>1</td>\n",
       "      <td>0</td>\n",
       "      <td>1</td>\n",
       "      <td>112542.58</td>\n",
       "      <td>0</td>\n",
       "    </tr>\n",
       "    <tr>\n",
       "      <th>2</th>\n",
       "      <td>15619304</td>\n",
       "      <td>502</td>\n",
       "      <td>Female</td>\n",
       "      <td>42</td>\n",
       "      <td>8</td>\n",
       "      <td>159660.80</td>\n",
       "      <td>3</td>\n",
       "      <td>1</td>\n",
       "      <td>0</td>\n",
       "      <td>113931.57</td>\n",
       "      <td>1</td>\n",
       "    </tr>\n",
       "    <tr>\n",
       "      <th>3</th>\n",
       "      <td>15701354</td>\n",
       "      <td>699</td>\n",
       "      <td>Female</td>\n",
       "      <td>39</td>\n",
       "      <td>1</td>\n",
       "      <td>0.00</td>\n",
       "      <td>2</td>\n",
       "      <td>0</td>\n",
       "      <td>0</td>\n",
       "      <td>93826.63</td>\n",
       "      <td>0</td>\n",
       "    </tr>\n",
       "    <tr>\n",
       "      <th>4</th>\n",
       "      <td>15737888</td>\n",
       "      <td>850</td>\n",
       "      <td>Female</td>\n",
       "      <td>43</td>\n",
       "      <td>2</td>\n",
       "      <td>125510.82</td>\n",
       "      <td>1</td>\n",
       "      <td>1</td>\n",
       "      <td>1</td>\n",
       "      <td>79084.10</td>\n",
       "      <td>0</td>\n",
       "    </tr>\n",
       "  </tbody>\n",
       "</table>\n",
       "</div>"
      ],
      "text/plain": [
       "   CustomerId  CreditScore  Gender  Age  Tenure    Balance  NumOfProducts  \\\n",
       "0    15634602          619  Female   42       2       0.00              1   \n",
       "1    15647311          608  Female   41       1   83807.86              1   \n",
       "2    15619304          502  Female   42       8  159660.80              3   \n",
       "3    15701354          699  Female   39       1       0.00              2   \n",
       "4    15737888          850  Female   43       2  125510.82              1   \n",
       "\n",
       "   HasCrCard  IsActiveMember  EstimatedSalary  Exited  \n",
       "0          1               1        101348.88       1  \n",
       "1          0               1        112542.58       0  \n",
       "2          1               0        113931.57       1  \n",
       "3          0               0         93826.63       0  \n",
       "4          1               1         79084.10       0  "
      ]
     },
     "execution_count": 6,
     "metadata": {},
     "output_type": "execute_result"
    }
   ],
   "source": [
    "dataset.head()"
   ]
  },
  {
   "cell_type": "code",
   "execution_count": 7,
   "metadata": {},
   "outputs": [],
   "source": [
    "X = dataset.iloc[:, 1:-1].values\n",
    "y = dataset.iloc[:, -1].values"
   ]
  },
  {
   "cell_type": "code",
   "execution_count": 8,
   "metadata": {
    "colab": {
     "base_uri": "https://localhost:8080/",
     "height": 137
    },
    "colab_type": "code",
    "id": "VYP9cQTWbzuI",
    "outputId": "797e7a64-9bac-436a-8c9c-94437e5e7587"
   },
   "outputs": [
    {
     "name": "stdout",
     "output_type": "stream",
     "text": [
      "[[619 'Female' 42 ... 1 1 101348.88]\n",
      " [608 'Female' 41 ... 0 1 112542.58]\n",
      " [502 'Female' 42 ... 1 0 113931.57]\n",
      " ...\n",
      " [709 'Female' 36 ... 0 1 42085.58]\n",
      " [772 'Male' 42 ... 1 0 92888.52]\n",
      " [792 'Female' 28 ... 1 0 38190.78]]\n"
     ]
    }
   ],
   "source": [
    "print(X)"
   ]
  },
  {
   "cell_type": "code",
   "execution_count": 9,
   "metadata": {
    "colab": {
     "base_uri": "https://localhost:8080/",
     "height": 34
    },
    "colab_type": "code",
    "id": "38vKGE6Nb2RR",
    "outputId": "a815e42a-e0dd-4cb5-ab97-b17ead98fbc3"
   },
   "outputs": [
    {
     "name": "stdout",
     "output_type": "stream",
     "text": [
      "[1 0 1 ... 1 1 0]\n"
     ]
    }
   ],
   "source": [
    "print(y)"
   ]
  },
  {
   "cell_type": "markdown",
   "metadata": {
    "colab_type": "text",
    "id": "N6bQ0UgSU-NJ"
   },
   "source": [
    "### Encoding categorical data"
   ]
  },
  {
   "cell_type": "markdown",
   "metadata": {
    "colab_type": "text",
    "id": "le5MJreAbW52"
   },
   "source": [
    "Label Encoding the \"Gender\" column"
   ]
  },
  {
   "cell_type": "code",
   "execution_count": 10,
   "metadata": {
    "colab": {},
    "colab_type": "code",
    "id": "PxVKWXxLbczC"
   },
   "outputs": [],
   "source": [
    "from sklearn.preprocessing import LabelEncoder\n",
    "le = LabelEncoder()\n",
    "X[:, 1] = le.fit_transform(X[:, 1])"
   ]
  },
  {
   "cell_type": "code",
   "execution_count": 11,
   "metadata": {
    "colab": {
     "base_uri": "https://localhost:8080/",
     "height": 137
    },
    "colab_type": "code",
    "id": "-M1KboxFb6OO",
    "outputId": "e2b8c7e8-0cbc-4cdf-f4eb-7f0853a00b88"
   },
   "outputs": [
    {
     "name": "stdout",
     "output_type": "stream",
     "text": [
      "[[619 0 42 ... 1 1 101348.88]\n",
      " [608 0 41 ... 0 1 112542.58]\n",
      " [502 0 42 ... 1 0 113931.57]\n",
      " ...\n",
      " [709 0 36 ... 0 1 42085.58]\n",
      " [772 1 42 ... 1 0 92888.52]\n",
      " [792 0 28 ... 1 0 38190.78]]\n"
     ]
    }
   ],
   "source": [
    "print(X)"
   ]
  },
  {
   "cell_type": "markdown",
   "metadata": {
    "colab_type": "text",
    "id": "vHol938cW8zd"
   },
   "source": [
    "### Splitting the dataset into the Training set and Test set"
   ]
  },
  {
   "cell_type": "code",
   "execution_count": 12,
   "metadata": {
    "colab": {},
    "colab_type": "code",
    "id": "Z-TDt0Y_XEfc"
   },
   "outputs": [],
   "source": [
    "from sklearn.model_selection import train_test_split\n",
    "X_train, X_test, y_train, y_test = train_test_split(X, y, test_size = 0.2, random_state = 0)"
   ]
  },
  {
   "cell_type": "code",
   "execution_count": 13,
   "metadata": {},
   "outputs": [
    {
     "data": {
      "text/plain": [
       "((8000, 9), (8000,))"
      ]
     },
     "execution_count": 13,
     "metadata": {},
     "output_type": "execute_result"
    }
   ],
   "source": [
    "X_train.shape , y_train.shape"
   ]
  },
  {
   "cell_type": "code",
   "execution_count": 14,
   "metadata": {},
   "outputs": [
    {
     "data": {
      "text/plain": [
       "((2000, 9), (2000,))"
      ]
     },
     "execution_count": 14,
     "metadata": {},
     "output_type": "execute_result"
    }
   ],
   "source": [
    "X_test.shape , y_test.shape"
   ]
  },
  {
   "cell_type": "markdown",
   "metadata": {
    "colab_type": "text",
    "id": "RE_FcHyfV3TQ"
   },
   "source": [
    "### Feature Scaling"
   ]
  },
  {
   "cell_type": "code",
   "execution_count": 15,
   "metadata": {
    "colab": {},
    "colab_type": "code",
    "id": "ViCrE00rV8Sk"
   },
   "outputs": [],
   "source": [
    "from sklearn.preprocessing import StandardScaler\n",
    "sc = StandardScaler()\n",
    "X_train = sc.fit_transform(X_train)\n",
    "X_test = sc.transform(X_test)"
   ]
  },
  {
   "cell_type": "code",
   "execution_count": 16,
   "metadata": {},
   "outputs": [
    {
     "data": {
      "text/plain": [
       "array([[ 0.16958176, -1.09168714, -0.46460796, ...,  0.64259497,\n",
       "        -1.03227043,  1.10643166],\n",
       "       [-2.30455945,  0.91601335,  0.30102557, ...,  0.64259497,\n",
       "         0.9687384 , -0.74866447],\n",
       "       [-1.19119591, -1.09168714, -0.94312892, ...,  0.64259497,\n",
       "        -1.03227043,  1.48533467],\n",
       "       ...,\n",
       "       [ 0.9015152 ,  0.91601335, -0.36890377, ...,  0.64259497,\n",
       "        -1.03227043,  1.41231994],\n",
       "       [-0.62420521, -1.09168714, -0.08179119, ...,  0.64259497,\n",
       "         0.9687384 ,  0.84432121],\n",
       "       [-0.28401079, -1.09168714,  0.87525072, ...,  0.64259497,\n",
       "        -1.03227043,  0.32472465]])"
      ]
     },
     "execution_count": 16,
     "metadata": {},
     "output_type": "execute_result"
    }
   ],
   "source": [
    "X_train"
   ]
  },
  {
   "cell_type": "markdown",
   "metadata": {
    "colab_type": "text",
    "id": "-zfEzkRVXIwF"
   },
   "source": [
    "## Part 2 - Building the ANN"
   ]
  },
  {
   "cell_type": "markdown",
   "metadata": {
    "colab_type": "text",
    "id": "KvdeScabXtlB"
   },
   "source": [
    "### Initializing the ANN"
   ]
  },
  {
   "cell_type": "code",
   "execution_count": 17,
   "metadata": {
    "colab": {},
    "colab_type": "code",
    "id": "3dtrScHxXQox"
   },
   "outputs": [
    {
     "name": "stdout",
     "output_type": "stream",
     "text": [
      "WARNING:tensorflow:From C:\\Users\\Bhaskar Kumbhar\\anaconda3\\lib\\site-packages\\keras\\src\\backend.py:873: The name tf.get_default_graph is deprecated. Please use tf.compat.v1.get_default_graph instead.\n",
      "\n"
     ]
    }
   ],
   "source": [
    "ann = tf.keras.models.Sequential()"
   ]
  },
  {
   "cell_type": "markdown",
   "metadata": {
    "colab_type": "text",
    "id": "rP6urV6SX7kS"
   },
   "source": [
    "### Adding the input layer"
   ]
  },
  {
   "cell_type": "code",
   "execution_count": 18,
   "metadata": {
    "colab": {},
    "colab_type": "code",
    "id": "bppGycBXYCQr"
   },
   "outputs": [],
   "source": [
    "ann.add(tf.keras.layers.Dense(units=9, activation='relu'))"
   ]
  },
  {
   "cell_type": "markdown",
   "metadata": {
    "colab_type": "text",
    "id": "BELWAc_8YJze"
   },
   "source": [
    "### Adding the hidden layers"
   ]
  },
  {
   "cell_type": "code",
   "execution_count": 19,
   "metadata": {
    "colab": {},
    "colab_type": "code",
    "id": "JneR0u0sYRTd"
   },
   "outputs": [],
   "source": [
    "ann.add(tf.keras.layers.Dense(units=16, activation='relu'))  ### hidden layer 1\n",
    "\n",
    "ann.add(tf.keras.layers.Dense(units=16, activation='relu'))  ### hidden layer 2\n",
    "\n",
    "ann.add(tf.keras.layers.Dense(units=8, activation='relu'))   ### hidden layer 3"
   ]
  },
  {
   "cell_type": "markdown",
   "metadata": {
    "colab_type": "text",
    "id": "OyNEe6RXYcU4"
   },
   "source": [
    "### Adding the output layer"
   ]
  },
  {
   "cell_type": "code",
   "execution_count": 20,
   "metadata": {
    "colab": {},
    "colab_type": "code",
    "id": "Cn3x41RBYfvY"
   },
   "outputs": [],
   "source": [
    "ann.add(tf.keras.layers.Dense(units=1, activation='sigmoid'))"
   ]
  },
  {
   "cell_type": "markdown",
   "metadata": {
    "colab_type": "text",
    "id": "JT4u2S1_Y4WG"
   },
   "source": [
    "## Part 3 - Training the ANN"
   ]
  },
  {
   "cell_type": "markdown",
   "metadata": {
    "colab_type": "text",
    "id": "8GWlJChhY_ZI"
   },
   "source": [
    "### Compiling the ANN"
   ]
  },
  {
   "cell_type": "code",
   "execution_count": 21,
   "metadata": {
    "colab": {},
    "colab_type": "code",
    "id": "fG3RrwDXZEaS"
   },
   "outputs": [
    {
     "name": "stdout",
     "output_type": "stream",
     "text": [
      "WARNING:tensorflow:From C:\\Users\\Bhaskar Kumbhar\\anaconda3\\lib\\site-packages\\keras\\src\\optimizers\\__init__.py:309: The name tf.train.Optimizer is deprecated. Please use tf.compat.v1.train.Optimizer instead.\n",
      "\n"
     ]
    }
   ],
   "source": [
    "ann.compile(optimizer = 'adam', loss = 'binary_crossentropy', metrics = ['accuracy'])"
   ]
  },
  {
   "cell_type": "markdown",
   "metadata": {
    "colab_type": "text",
    "id": "0QR_G5u7ZLSM"
   },
   "source": [
    "### Training the ANN on the Training set"
   ]
  },
  {
   "cell_type": "code",
   "execution_count": 22,
   "metadata": {
    "colab": {
     "base_uri": "https://localhost:8080/",
     "height": 1000
    },
    "colab_type": "code",
    "id": "nHZ-LKv_ZRb3",
    "outputId": "718cc4b0-b5aa-40f0-9b20-d3d31730a531",
    "scrolled": true
   },
   "outputs": [
    {
     "name": "stdout",
     "output_type": "stream",
     "text": [
      "Epoch 1/50\n",
      "WARNING:tensorflow:From C:\\Users\\Bhaskar Kumbhar\\anaconda3\\lib\\site-packages\\keras\\src\\utils\\tf_utils.py:492: The name tf.ragged.RaggedTensorValue is deprecated. Please use tf.compat.v1.ragged.RaggedTensorValue instead.\n",
      "\n",
      "WARNING:tensorflow:From C:\\Users\\Bhaskar Kumbhar\\anaconda3\\lib\\site-packages\\keras\\src\\engine\\base_layer_utils.py:384: The name tf.executing_eagerly_outside_functions is deprecated. Please use tf.compat.v1.executing_eagerly_outside_functions instead.\n",
      "\n",
      "80/80 [==============================] - 1s 2ms/step - loss: 0.6591 - accuracy: 0.6852\n",
      "Epoch 2/50\n",
      "80/80 [==============================] - 0s 2ms/step - loss: 0.5286 - accuracy: 0.7960\n",
      "Epoch 3/50\n",
      "80/80 [==============================] - 0s 2ms/step - loss: 0.4763 - accuracy: 0.7960\n",
      "Epoch 4/50\n",
      "80/80 [==============================] - 0s 2ms/step - loss: 0.4493 - accuracy: 0.7974\n",
      "Epoch 5/50\n",
      "80/80 [==============================] - 0s 2ms/step - loss: 0.4299 - accuracy: 0.8002\n",
      "Epoch 6/50\n",
      "80/80 [==============================] - 0s 2ms/step - loss: 0.4119 - accuracy: 0.8158\n",
      "Epoch 7/50\n",
      "80/80 [==============================] - 0s 1ms/step - loss: 0.3914 - accuracy: 0.8310\n",
      "Epoch 8/50\n",
      "80/80 [==============================] - 0s 1ms/step - loss: 0.3775 - accuracy: 0.8379\n",
      "Epoch 9/50\n",
      "80/80 [==============================] - 0s 2ms/step - loss: 0.3700 - accuracy: 0.8439\n",
      "Epoch 10/50\n",
      "80/80 [==============================] - 0s 1ms/step - loss: 0.3667 - accuracy: 0.8424\n",
      "Epoch 11/50\n",
      "80/80 [==============================] - 0s 2ms/step - loss: 0.3644 - accuracy: 0.8460\n",
      "Epoch 12/50\n",
      "80/80 [==============================] - 0s 2ms/step - loss: 0.3615 - accuracy: 0.8486\n",
      "Epoch 13/50\n",
      "80/80 [==============================] - 0s 1ms/step - loss: 0.3603 - accuracy: 0.8482\n",
      "Epoch 14/50\n",
      "80/80 [==============================] - 0s 1ms/step - loss: 0.3586 - accuracy: 0.8508\n",
      "Epoch 15/50\n",
      "80/80 [==============================] - 0s 1ms/step - loss: 0.3568 - accuracy: 0.8535\n",
      "Epoch 16/50\n",
      "80/80 [==============================] - 0s 1ms/step - loss: 0.3555 - accuracy: 0.8536\n",
      "Epoch 17/50\n",
      "80/80 [==============================] - 0s 1ms/step - loss: 0.3548 - accuracy: 0.8536\n",
      "Epoch 18/50\n",
      "80/80 [==============================] - 0s 2ms/step - loss: 0.3545 - accuracy: 0.8535\n",
      "Epoch 19/50\n",
      "80/80 [==============================] - 0s 1ms/step - loss: 0.3535 - accuracy: 0.8544\n",
      "Epoch 20/50\n",
      "80/80 [==============================] - 0s 1ms/step - loss: 0.3525 - accuracy: 0.8553\n",
      "Epoch 21/50\n",
      "80/80 [==============================] - 0s 1ms/step - loss: 0.3514 - accuracy: 0.8562\n",
      "Epoch 22/50\n",
      "80/80 [==============================] - 0s 1ms/step - loss: 0.3512 - accuracy: 0.8550\n",
      "Epoch 23/50\n",
      "80/80 [==============================] - 0s 2ms/step - loss: 0.3509 - accuracy: 0.8553\n",
      "Epoch 24/50\n",
      "80/80 [==============================] - 0s 1ms/step - loss: 0.3505 - accuracy: 0.8560\n",
      "Epoch 25/50\n",
      "80/80 [==============================] - 0s 1ms/step - loss: 0.3512 - accuracy: 0.8544\n",
      "Epoch 26/50\n",
      "80/80 [==============================] - 0s 2ms/step - loss: 0.3494 - accuracy: 0.8537\n",
      "Epoch 27/50\n",
      "80/80 [==============================] - 0s 1ms/step - loss: 0.3496 - accuracy: 0.8561\n",
      "Epoch 28/50\n",
      "80/80 [==============================] - 0s 1ms/step - loss: 0.3492 - accuracy: 0.8558\n",
      "Epoch 29/50\n",
      "80/80 [==============================] - 0s 2ms/step - loss: 0.3487 - accuracy: 0.8551\n",
      "Epoch 30/50\n",
      "80/80 [==============================] - 0s 2ms/step - loss: 0.3485 - accuracy: 0.8551\n",
      "Epoch 31/50\n",
      "80/80 [==============================] - 0s 2ms/step - loss: 0.3480 - accuracy: 0.8561\n",
      "Epoch 32/50\n",
      "80/80 [==============================] - 0s 2ms/step - loss: 0.3474 - accuracy: 0.8564\n",
      "Epoch 33/50\n",
      "80/80 [==============================] - 0s 1ms/step - loss: 0.3472 - accuracy: 0.8568\n",
      "Epoch 34/50\n",
      "80/80 [==============================] - 0s 2ms/step - loss: 0.3472 - accuracy: 0.8565\n",
      "Epoch 35/50\n",
      "80/80 [==============================] - 0s 2ms/step - loss: 0.3467 - accuracy: 0.8571\n",
      "Epoch 36/50\n",
      "80/80 [==============================] - 0s 2ms/step - loss: 0.3466 - accuracy: 0.8559\n",
      "Epoch 37/50\n",
      "80/80 [==============================] - 0s 2ms/step - loss: 0.3465 - accuracy: 0.8570\n",
      "Epoch 38/50\n",
      "80/80 [==============================] - 0s 2ms/step - loss: 0.3462 - accuracy: 0.8568\n",
      "Epoch 39/50\n",
      "80/80 [==============================] - 0s 2ms/step - loss: 0.3458 - accuracy: 0.8580\n",
      "Epoch 40/50\n",
      "80/80 [==============================] - 0s 2ms/step - loss: 0.3460 - accuracy: 0.8569\n",
      "Epoch 41/50\n",
      "80/80 [==============================] - 0s 2ms/step - loss: 0.3458 - accuracy: 0.8586\n",
      "Epoch 42/50\n",
      "80/80 [==============================] - 0s 2ms/step - loss: 0.3451 - accuracy: 0.8584\n",
      "Epoch 43/50\n",
      "80/80 [==============================] - 0s 2ms/step - loss: 0.3449 - accuracy: 0.8580\n",
      "Epoch 44/50\n",
      "80/80 [==============================] - 0s 2ms/step - loss: 0.3455 - accuracy: 0.8574\n",
      "Epoch 45/50\n",
      "80/80 [==============================] - 0s 5ms/step - loss: 0.3446 - accuracy: 0.8585\n",
      "Epoch 46/50\n",
      "80/80 [==============================] - 0s 2ms/step - loss: 0.3438 - accuracy: 0.8583\n",
      "Epoch 47/50\n",
      "80/80 [==============================] - 0s 3ms/step - loss: 0.3443 - accuracy: 0.8586\n",
      "Epoch 48/50\n",
      "80/80 [==============================] - 0s 4ms/step - loss: 0.3437 - accuracy: 0.8583\n",
      "Epoch 49/50\n",
      "80/80 [==============================] - 0s 3ms/step - loss: 0.3439 - accuracy: 0.8584\n",
      "Epoch 50/50\n",
      "80/80 [==============================] - 0s 2ms/step - loss: 0.3431 - accuracy: 0.8585\n"
     ]
    },
    {
     "data": {
      "text/plain": [
       "<keras.src.callbacks.History at 0x1b3a6863b80>"
      ]
     },
     "execution_count": 22,
     "metadata": {},
     "output_type": "execute_result"
    }
   ],
   "source": [
    "ann.fit(X_train, y_train, batch_size = 100, epochs = 50)"
   ]
  },
  {
   "cell_type": "code",
   "execution_count": 23,
   "metadata": {},
   "outputs": [
    {
     "name": "stdout",
     "output_type": "stream",
     "text": [
      "Model: \"sequential\"\n",
      "_________________________________________________________________\n",
      " Layer (type)                Output Shape              Param #   \n",
      "=================================================================\n",
      " dense (Dense)               (100, 9)                  90        \n",
      "                                                                 \n",
      " dense_1 (Dense)             (100, 16)                 160       \n",
      "                                                                 \n",
      " dense_2 (Dense)             (100, 16)                 272       \n",
      "                                                                 \n",
      " dense_3 (Dense)             (100, 8)                  136       \n",
      "                                                                 \n",
      " dense_4 (Dense)             (100, 1)                  9         \n",
      "                                                                 \n",
      "=================================================================\n",
      "Total params: 667 (2.61 KB)\n",
      "Trainable params: 667 (2.61 KB)\n",
      "Non-trainable params: 0 (0.00 Byte)\n",
      "_________________________________________________________________\n"
     ]
    }
   ],
   "source": [
    "ann.summary()"
   ]
  },
  {
   "cell_type": "code",
   "execution_count": 24,
   "metadata": {},
   "outputs": [
    {
     "name": "stdout",
     "output_type": "stream",
     "text": [
      "250/250 [==============================] - 1s 1ms/step\n"
     ]
    }
   ],
   "source": [
    "y_pred_tr = ann.predict(X_train)"
   ]
  },
  {
   "cell_type": "code",
   "execution_count": 25,
   "metadata": {},
   "outputs": [
    {
     "data": {
      "text/plain": [
       "array([[0.02935888],\n",
       "       [0.34995076],\n",
       "       [0.19166099],\n",
       "       ...,\n",
       "       [0.10672961],\n",
       "       [0.02265259],\n",
       "       [0.6438858 ]], dtype=float32)"
      ]
     },
     "execution_count": 25,
     "metadata": {},
     "output_type": "execute_result"
    }
   ],
   "source": [
    "y_pred_tr"
   ]
  },
  {
   "cell_type": "code",
   "execution_count": 26,
   "metadata": {},
   "outputs": [
    {
     "name": "stdout",
     "output_type": "stream",
     "text": [
      "[[0 0]\n",
      " [0 0]\n",
      " [0 0]\n",
      " ...\n",
      " [0 0]\n",
      " [0 0]\n",
      " [1 1]]\n"
     ]
    }
   ],
   "source": [
    "y_pred_tr = (y_pred_tr > 0.5)\n",
    "print(np.concatenate((y_pred_tr.reshape(len(y_pred_tr),1), y_train.reshape(len(y_train),1)),1))"
   ]
  },
  {
   "cell_type": "code",
   "execution_count": 27,
   "metadata": {},
   "outputs": [
    {
     "name": "stdout",
     "output_type": "stream",
     "text": [
      "Accuracy : 0.6817543600354715\n"
     ]
    }
   ],
   "source": [
    "import sklearn.metrics as metrics\n",
    "print(\"Accuracy :\", metrics.roc_auc_score(y_train, y_pred_tr))"
   ]
  },
  {
   "cell_type": "code",
   "execution_count": null,
   "metadata": {},
   "outputs": [],
   "source": []
  },
  {
   "cell_type": "code",
   "execution_count": 28,
   "metadata": {},
   "outputs": [
    {
     "data": {
      "text/plain": [
       "Text(0.5, 23.52222222222222, 'Predicted')"
      ]
     },
     "execution_count": 28,
     "metadata": {},
     "output_type": "execute_result"
    },
    {
     "data": {
      "image/png": "[encoded data removed]",
      "text/plain": [
       "<Figure size 640x480 with 2 Axes>"
      ]
     },
     "metadata": {},
     "output_type": "display_data"
    }
   ],
   "source": [
    "from sklearn.metrics import confusion_matrix\n",
    "\n",
    "log_cm = confusion_matrix(y_train, y_pred_tr.reshape(len(y_pred_tr),1))\n",
    "\n",
    "sns.heatmap(log_cm, annot=True, fmt='.2f',\n",
    "         xticklabels = [\"0\", \"1\"] , yticklabels = [\"0\", \"1\"] )\n",
    "\n",
    "plt.ylabel('Actual')\n",
    "plt.xlabel('Predicted')"
   ]
  },
  {
   "cell_type": "markdown",
   "metadata": {
    "colab_type": "text",
    "id": "u7yx47jPZt11"
   },
   "source": [
    "### Predicting the Test set results"
   ]
  },
  {
   "cell_type": "code",
   "execution_count": 29,
   "metadata": {
    "colab": {
     "base_uri": "https://localhost:8080/",
     "height": 137
    },
    "colab_type": "code",
    "id": "nIyEeQdRZwgs",
    "outputId": "82330ba8-9bdc-4fd1-d3cf-b6d78ee7c2a3"
   },
   "outputs": [
    {
     "name": "stdout",
     "output_type": "stream",
     "text": [
      "63/63 [==============================] - 0s 2ms/step\n",
      "[[0 0]\n",
      " [0 1]\n",
      " [0 0]\n",
      " ...\n",
      " [0 0]\n",
      " [0 0]\n",
      " [0 0]]\n"
     ]
    }
   ],
   "source": [
    "y_pred_tst = ann.predict(X_test)\n",
    "y_pred_tst = (y_pred_tst > 0.5)\n",
    "print(np.concatenate((y_pred_tst.reshape(len(y_pred_tst),1), y_test.reshape(len(y_test),1)),1))"
   ]
  },
  {
   "cell_type": "code",
   "execution_count": 30,
   "metadata": {},
   "outputs": [
    {
     "name": "stdout",
     "output_type": "stream",
     "text": [
      "Accuracy : 0.6893223421959055\n"
     ]
    }
   ],
   "source": [
    "print(\"Accuracy :\", metrics.roc_auc_score(y_test, y_pred_tst))"
   ]
  },
  {
   "cell_type": "code",
   "execution_count": 31,
   "metadata": {},
   "outputs": [
    {
     "data": {
      "text/plain": [
       "Text(0.5, 23.52222222222222, 'Predicted')"
      ]
     },
     "execution_count": 31,
     "metadata": {},
     "output_type": "execute_result"
    },
    {
     "data": {
      "image/png": "[encoded data removed]",
      "text/plain": [
       "<Figure size 640x480 with 2 Axes>"
      ]
     },
     "metadata": {},
     "output_type": "display_data"
    }
   ],
   "source": [
    "from sklearn.metrics import confusion_matrix\n",
    "\n",
    "log_cm = confusion_matrix(y_test, y_pred_tst.reshape(len(y_pred_tst),1))\n",
    "\n",
    "sns.heatmap(log_cm, annot=True, fmt='.2f',\n",
    "         xticklabels = [\"0\", \"1\"] , yticklabels = [\"0\", \"1\"] )\n",
    "\n",
    "plt.ylabel('Actual')\n",
    "plt.xlabel('Predicted')"
   ]
  },
  {
   "cell_type": "code",
   "execution_count": null,
   "metadata": {},
   "outputs": [],
   "source": []
  },
  {
   "cell_type": "markdown",
   "metadata": {
    "colab_type": "text",
    "id": "tJj5k2MxZga3"
   },
   "source": [
    "## Part 4 - Making the predictions and evaluating the model"
   ]
  },
  {
   "cell_type": "markdown",
   "metadata": {
    "colab_type": "text",
    "id": "84QFoqGYeXHL"
   },
   "source": [
    "### Predicting the result of a single observation"
   ]
  },
  {
   "cell_type": "markdown",
   "metadata": {
    "colab_type": "text",
    "id": "CGRo3eacgDdC"
   },
   "source": [
    "**Homework**\n",
    "\n",
    "Use our ANN model to predict if the customer with the following informations will leave the bank or not: \n",
    "\n",
    "\n",
    "Credit Score: 600\n",
    "\n",
    "Gender: Male\n",
    "\n",
    "Age: 40 years old\n",
    "\n",
    "Tenure: 3 years\n",
    "\n",
    "Balance: \\$ 60000\n",
    "\n",
    "Number of Products: 2\n",
    "\n",
    "Does this customer have a credit card ? Yes\n",
    "\n",
    "Is this customer an Active Member: Yes\n",
    "\n",
    "Estimated Salary: \\$ 50000\n",
    "\n",
    "So, should we say goodbye to that customer ?"
   ]
  },
  {
   "cell_type": "markdown",
   "metadata": {
    "colab_type": "text",
    "id": "ZhU1LTgPg-kH"
   },
   "source": [
    "**Solution**"
   ]
  },
  {
   "cell_type": "code",
   "execution_count": 32,
   "metadata": {
    "colab": {
     "base_uri": "https://localhost:8080/",
     "height": 34
    },
    "colab_type": "code",
    "id": "2d8IoCCkeWGL",
    "outputId": "957f3970-e197-4c3b-a150-7f69dc567f5d"
   },
   "outputs": [
    {
     "name": "stdout",
     "output_type": "stream",
     "text": [
      "1/1 [==============================] - 0s 25ms/step\n",
      "[[False]]\n"
     ]
    }
   ],
   "source": [
    "print(ann.predict(sc.transform([[600, 1, 40, 3, 60000, 2, 1, 1, 50000]])) > 0.5)"
   ]
  },
  {
   "cell_type": "code",
   "execution_count": 33,
   "metadata": {},
   "outputs": [],
   "source": [
    "#print(ann.predict(sc.transform([[300, 0, 60, 1, 600, 1, 0, 0, 500]])) > 0.5)"
   ]
  },
  {
   "cell_type": "code",
   "execution_count": null,
   "metadata": {},
   "outputs": [],
   "source": []
  },
  {
   "cell_type": "markdown",
   "metadata": {},
   "source": [
    "### Save the Model"
   ]
  },
  {
   "cell_type": "code",
   "execution_count": 34,
   "metadata": {},
   "outputs": [
    {
     "name": "stderr",
     "output_type": "stream",
     "text": [
      "C:\\Users\\Bhaskar Kumbhar\\anaconda3\\lib\\site-packages\\keras\\src\\engine\\training.py:3103: UserWarning: You are saving your model as an HDF5 file via `model.save()`. This file format is considered legacy. We recommend using instead the native Keras format, e.g. `model.save('my_model.keras')`.\n",
      "  saving_api.save_model(\n"
     ]
    }
   ],
   "source": [
    "### import load_mode\n",
    "from keras.models import load_model \n",
    "\n",
    "### save the model as .h5 file\n",
    "ann.save(\"ann_clf.h5\") \n",
    "\n",
    "### load the saved model\n",
    "ann_model = load_model(\"ann_clf.h5\") "
   ]
  },
  {
   "cell_type": "code",
   "execution_count": 35,
   "metadata": {},
   "outputs": [
    {
     "name": "stdout",
     "output_type": "stream",
     "text": [
      "63/63 [==============================] - 0s 2ms/step - loss: 0.3491 - accuracy: 0.8600\n"
     ]
    }
   ],
   "source": [
    "loss, accuracy = ann_model.evaluate(X_test, y_test) "
   ]
  },
  {
   "cell_type": "code",
   "execution_count": null,
   "metadata": {},
   "outputs": [],
   "source": []
  },
  {
   "cell_type": "code",
   "execution_count": 36,
   "metadata": {},
   "outputs": [
    {
     "name": "stdout",
     "output_type": "stream",
     "text": [
      "1/1 [==============================] - 0s 69ms/step\n",
      "[[False]]\n"
     ]
    }
   ],
   "source": [
    "### prediction for future data\n",
    "\n",
    "print(ann_model.predict(sc.transform([[600, 1, 40, 3, 60000, 2, 1, 1, 50000]])) > 0.5)"
   ]
  },
  {
   "cell_type": "code",
   "execution_count": null,
   "metadata": {},
   "outputs": [],
   "source": []
  }
 ],
 "metadata": {
  "colab": {
   "collapsed_sections": [],
   "name": "artificial_neural_network.ipynb",
   "provenance": [],
   "toc_visible": true
  },
  "kernelspec": {
   "display_name": "Python 3 (ipykernel)",
   "language": "python",
   "name": "python3"
  },
  "language_info": {
   "codemirror_mode": {
    "name": "ipython",
    "version": 3
   },
   "file_extension": ".py",
   "mimetype": "text/x-python",
   "name": "python",
   "nbconvert_exporter": "python",
   "pygments_lexer": "ipython3",
   "version": "3.9.13"
  }
 },
 "nbformat": 4,
 "nbformat_minor": 1
}
