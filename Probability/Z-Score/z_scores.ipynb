{
 "cells": [
  {
   "cell_type": "code",
   "execution_count": 4,
   "metadata": {
    "ExecuteTime": {
     "end_time": "2023-09-25T15:33:59.507185Z",
     "start_time": "2023-09-25T15:33:59.499195Z"
    }
   },
   "outputs": [],
   "source": [
    "import pandas as pd"
   ]
  },
  {
   "cell_type": "code",
   "execution_count": 5,
   "metadata": {
    "ExecuteTime": {
     "end_time": "2023-09-25T15:33:59.616227Z",
     "start_time": "2023-09-25T15:33:59.508972Z"
    }
   },
   "outputs": [],
   "source": [
    "df=pd.read_csv('Salaries.csv')"
   ]
  },
  {
   "cell_type": "code",
   "execution_count": 6,
   "metadata": {
    "ExecuteTime": {
     "end_time": "2023-09-25T15:33:59.631629Z",
     "start_time": "2023-09-25T15:33:59.620239Z"
    }
   },
   "outputs": [
    {
     "data": {
      "text/plain": [
       "Index(['rank', 'discipline', 'phd', 'service', 'sex', 'salary'], dtype='object')"
      ]
     },
     "execution_count": 6,
     "metadata": {},
     "output_type": "execute_result"
    }
   ],
   "source": [
    "df.columns"
   ]
  },
  {
   "cell_type": "code",
   "execution_count": 7,
   "metadata": {
    "ExecuteTime": {
     "end_time": "2023-09-25T15:33:59.678377Z",
     "start_time": "2023-09-25T15:33:59.632668Z"
    }
   },
   "outputs": [
    {
     "data": {
      "text/html": [
       "<div>\n",
       "<style scoped>\n",
       "    .dataframe tbody tr th:only-of-type {\n",
       "        vertical-align: middle;\n",
       "    }\n",
       "\n",
       "    .dataframe tbody tr th {\n",
       "        vertical-align: top;\n",
       "    }\n",
       "\n",
       "    .dataframe thead th {\n",
       "        text-align: right;\n",
       "    }\n",
       "</style>\n",
       "<table border=\"1\" class=\"dataframe\">\n",
       "  <thead>\n",
       "    <tr style=\"text-align: right;\">\n",
       "      <th></th>\n",
       "      <th>phd</th>\n",
       "      <th>service</th>\n",
       "      <th>salary</th>\n",
       "    </tr>\n",
       "  </thead>\n",
       "  <tbody>\n",
       "    <tr>\n",
       "      <th>0</th>\n",
       "      <td>56</td>\n",
       "      <td>49</td>\n",
       "      <td>186960</td>\n",
       "    </tr>\n",
       "    <tr>\n",
       "      <th>1</th>\n",
       "      <td>12</td>\n",
       "      <td>6</td>\n",
       "      <td>93000</td>\n",
       "    </tr>\n",
       "    <tr>\n",
       "      <th>2</th>\n",
       "      <td>23</td>\n",
       "      <td>20</td>\n",
       "      <td>110515</td>\n",
       "    </tr>\n",
       "    <tr>\n",
       "      <th>3</th>\n",
       "      <td>40</td>\n",
       "      <td>31</td>\n",
       "      <td>131205</td>\n",
       "    </tr>\n",
       "    <tr>\n",
       "      <th>4</th>\n",
       "      <td>20</td>\n",
       "      <td>18</td>\n",
       "      <td>104800</td>\n",
       "    </tr>\n",
       "    <tr>\n",
       "      <th>...</th>\n",
       "      <td>...</td>\n",
       "      <td>...</td>\n",
       "      <td>...</td>\n",
       "    </tr>\n",
       "    <tr>\n",
       "      <th>73</th>\n",
       "      <td>18</td>\n",
       "      <td>10</td>\n",
       "      <td>105450</td>\n",
       "    </tr>\n",
       "    <tr>\n",
       "      <th>74</th>\n",
       "      <td>19</td>\n",
       "      <td>6</td>\n",
       "      <td>104542</td>\n",
       "    </tr>\n",
       "    <tr>\n",
       "      <th>75</th>\n",
       "      <td>17</td>\n",
       "      <td>17</td>\n",
       "      <td>124312</td>\n",
       "    </tr>\n",
       "    <tr>\n",
       "      <th>76</th>\n",
       "      <td>28</td>\n",
       "      <td>14</td>\n",
       "      <td>109954</td>\n",
       "    </tr>\n",
       "    <tr>\n",
       "      <th>77</th>\n",
       "      <td>23</td>\n",
       "      <td>15</td>\n",
       "      <td>109646</td>\n",
       "    </tr>\n",
       "  </tbody>\n",
       "</table>\n",
       "<p>78 rows × 3 columns</p>\n",
       "</div>"
      ],
      "text/plain": [
       "    phd  service  salary\n",
       "0    56       49  186960\n",
       "1    12        6   93000\n",
       "2    23       20  110515\n",
       "3    40       31  131205\n",
       "4    20       18  104800\n",
       "..  ...      ...     ...\n",
       "73   18       10  105450\n",
       "74   19        6  104542\n",
       "75   17       17  124312\n",
       "76   28       14  109954\n",
       "77   23       15  109646\n",
       "\n",
       "[78 rows x 3 columns]"
      ]
     },
     "execution_count": 7,
     "metadata": {},
     "output_type": "execute_result"
    }
   ],
   "source": [
    "df=df[['phd','service','salary']]\n",
    "df"
   ]
  },
  {
   "cell_type": "code",
   "execution_count": 8,
   "metadata": {
    "ExecuteTime": {
     "end_time": "2023-09-25T15:33:59.694317Z",
     "start_time": "2023-09-25T15:33:59.683378Z"
    }
   },
   "outputs": [
    {
     "data": {
      "text/plain": [
       "phd            19.705128\n",
       "service        15.051282\n",
       "salary     108023.782051\n",
       "dtype: float64"
      ]
     },
     "execution_count": 8,
     "metadata": {},
     "output_type": "execute_result"
    }
   ],
   "source": [
    "df.mean()"
   ]
  },
  {
   "cell_type": "code",
   "execution_count": 9,
   "metadata": {
    "ExecuteTime": {
     "end_time": "2023-09-25T15:34:02.153165Z",
     "start_time": "2023-09-25T15:34:02.139105Z"
    }
   },
   "outputs": [
    {
     "data": {
      "text/plain": [
       "phd           12.498425\n",
       "service       12.139768\n",
       "salary     28293.661022\n",
       "dtype: float64"
      ]
     },
     "execution_count": 9,
     "metadata": {},
     "output_type": "execute_result"
    }
   ],
   "source": [
    "df.std()"
   ]
  },
  {
   "cell_type": "code",
   "execution_count": 10,
   "metadata": {
    "ExecuteTime": {
     "end_time": "2023-09-25T15:34:03.039373Z",
     "start_time": "2023-09-25T15:34:02.871828Z"
    }
   },
   "outputs": [],
   "source": [
    "df['z_score_phd']=(df['phd']-df['phd'].mean())/df['phd'].std()"
   ]
  },
  {
   "cell_type": "code",
   "execution_count": 11,
   "metadata": {
    "ExecuteTime": {
     "end_time": "2023-09-25T15:34:18.249813Z",
     "start_time": "2023-09-25T15:34:18.237976Z"
    }
   },
   "outputs": [],
   "source": [
    "df['z_score_service']=(df['service']-df['service'].mean())/df['service'].std()"
   ]
  },
  {
   "cell_type": "code",
   "execution_count": 12,
   "metadata": {
    "ExecuteTime": {
     "end_time": "2023-09-25T15:34:18.729806Z",
     "start_time": "2023-09-25T15:34:18.712563Z"
    }
   },
   "outputs": [],
   "source": [
    "df['z_score_salary']=(df['salary']-df['salary'].mean())/df['salary'].std()"
   ]
  },
  {
   "cell_type": "code",
   "execution_count": 23,
   "metadata": {
    "ExecuteTime": {
     "end_time": "2023-09-21T00:59:15.099442Z",
     "start_time": "2023-09-21T00:59:15.085140Z"
    }
   },
   "outputs": [
    {
     "data": {
      "text/html": [
       "<div>\n",
       "<style scoped>\n",
       "    .dataframe tbody tr th:only-of-type {\n",
       "        vertical-align: middle;\n",
       "    }\n",
       "\n",
       "    .dataframe tbody tr th {\n",
       "        vertical-align: top;\n",
       "    }\n",
       "\n",
       "    .dataframe thead th {\n",
       "        text-align: right;\n",
       "    }\n",
       "</style>\n",
       "<table border=\"1\" class=\"dataframe\">\n",
       "  <thead>\n",
       "    <tr style=\"text-align: right;\">\n",
       "      <th></th>\n",
       "      <th>phd</th>\n",
       "      <th>service</th>\n",
       "      <th>salary</th>\n",
       "      <th>z_score_phd</th>\n",
       "      <th>z_score_service</th>\n",
       "      <th>z_score_salary</th>\n",
       "    </tr>\n",
       "  </thead>\n",
       "  <tbody>\n",
       "    <tr>\n",
       "      <th>0</th>\n",
       "      <td>56</td>\n",
       "      <td>49</td>\n",
       "      <td>186960</td>\n",
       "      <td>2.903956</td>\n",
       "      <td>2.796488</td>\n",
       "      <td>2.789891</td>\n",
       "    </tr>\n",
       "    <tr>\n",
       "      <th>1</th>\n",
       "      <td>12</td>\n",
       "      <td>6</td>\n",
       "      <td>93000</td>\n",
       "      <td>-0.616488</td>\n",
       "      <td>-0.745589</td>\n",
       "      <td>-0.530995</td>\n",
       "    </tr>\n",
       "    <tr>\n",
       "      <th>2</th>\n",
       "      <td>23</td>\n",
       "      <td>20</td>\n",
       "      <td>110515</td>\n",
       "      <td>0.263623</td>\n",
       "      <td>0.407645</td>\n",
       "      <td>0.088049</td>\n",
       "    </tr>\n",
       "    <tr>\n",
       "      <th>3</th>\n",
       "      <td>40</td>\n",
       "      <td>31</td>\n",
       "      <td>131205</td>\n",
       "      <td>1.623794</td>\n",
       "      <td>1.313758</td>\n",
       "      <td>0.819308</td>\n",
       "    </tr>\n",
       "    <tr>\n",
       "      <th>4</th>\n",
       "      <td>20</td>\n",
       "      <td>18</td>\n",
       "      <td>104800</td>\n",
       "      <td>0.023593</td>\n",
       "      <td>0.242897</td>\n",
       "      <td>-0.113940</td>\n",
       "    </tr>\n",
       "    <tr>\n",
       "      <th>...</th>\n",
       "      <td>...</td>\n",
       "      <td>...</td>\n",
       "      <td>...</td>\n",
       "      <td>...</td>\n",
       "      <td>...</td>\n",
       "      <td>...</td>\n",
       "    </tr>\n",
       "    <tr>\n",
       "      <th>73</th>\n",
       "      <td>18</td>\n",
       "      <td>10</td>\n",
       "      <td>105450</td>\n",
       "      <td>-0.136427</td>\n",
       "      <td>-0.416094</td>\n",
       "      <td>-0.090967</td>\n",
       "    </tr>\n",
       "    <tr>\n",
       "      <th>74</th>\n",
       "      <td>19</td>\n",
       "      <td>6</td>\n",
       "      <td>104542</td>\n",
       "      <td>-0.056417</td>\n",
       "      <td>-0.745589</td>\n",
       "      <td>-0.123059</td>\n",
       "    </tr>\n",
       "    <tr>\n",
       "      <th>75</th>\n",
       "      <td>17</td>\n",
       "      <td>17</td>\n",
       "      <td>124312</td>\n",
       "      <td>-0.216438</td>\n",
       "      <td>0.160523</td>\n",
       "      <td>0.575684</td>\n",
       "    </tr>\n",
       "    <tr>\n",
       "      <th>76</th>\n",
       "      <td>28</td>\n",
       "      <td>14</td>\n",
       "      <td>109954</td>\n",
       "      <td>0.663673</td>\n",
       "      <td>-0.086598</td>\n",
       "      <td>0.068221</td>\n",
       "    </tr>\n",
       "    <tr>\n",
       "      <th>77</th>\n",
       "      <td>23</td>\n",
       "      <td>15</td>\n",
       "      <td>109646</td>\n",
       "      <td>0.263623</td>\n",
       "      <td>-0.004224</td>\n",
       "      <td>0.057335</td>\n",
       "    </tr>\n",
       "  </tbody>\n",
       "</table>\n",
       "<p>78 rows × 6 columns</p>\n",
       "</div>"
      ],
      "text/plain": [
       "    phd  service  salary  z_score_phd  z_score_service  z_score_salary\n",
       "0    56       49  186960     2.903956         2.796488        2.789891\n",
       "1    12        6   93000    -0.616488        -0.745589       -0.530995\n",
       "2    23       20  110515     0.263623         0.407645        0.088049\n",
       "3    40       31  131205     1.623794         1.313758        0.819308\n",
       "4    20       18  104800     0.023593         0.242897       -0.113940\n",
       "..  ...      ...     ...          ...              ...             ...\n",
       "73   18       10  105450    -0.136427        -0.416094       -0.090967\n",
       "74   19        6  104542    -0.056417        -0.745589       -0.123059\n",
       "75   17       17  124312    -0.216438         0.160523        0.575684\n",
       "76   28       14  109954     0.663673        -0.086598        0.068221\n",
       "77   23       15  109646     0.263623        -0.004224        0.057335\n",
       "\n",
       "[78 rows x 6 columns]"
      ]
     },
     "execution_count": 23,
     "metadata": {},
     "output_type": "execute_result"
    }
   ],
   "source": [
    "df"
   ]
  },
  {
   "cell_type": "code",
   "execution_count": 13,
   "metadata": {
    "ExecuteTime": {
     "end_time": "2023-09-25T15:34:56.993091Z",
     "start_time": "2023-09-25T15:34:56.983567Z"
    }
   },
   "outputs": [
    {
     "data": {
      "text/plain": [
       "19.705128205128204"
      ]
     },
     "execution_count": 13,
     "metadata": {},
     "output_type": "execute_result"
    }
   ],
   "source": [
    "df['phd'].mean()"
   ]
  },
  {
   "cell_type": "code",
   "execution_count": 14,
   "metadata": {
    "ExecuteTime": {
     "end_time": "2023-09-25T15:35:17.468187Z",
     "start_time": "2023-09-25T15:35:17.459305Z"
    }
   },
   "outputs": [
    {
     "data": {
      "text/plain": [
       "12.498424809175866"
      ]
     },
     "execution_count": 14,
     "metadata": {},
     "output_type": "execute_result"
    }
   ],
   "source": [
    "df['phd'].std()"
   ]
  },
  {
   "cell_type": "code",
   "execution_count": 15,
   "metadata": {
    "ExecuteTime": {
     "end_time": "2023-09-25T15:36:14.894704Z",
     "start_time": "2023-09-25T15:36:14.883176Z"
    }
   },
   "outputs": [
    {
     "data": {
      "text/plain": [
       "2.9063250600480384"
      ]
     },
     "execution_count": 15,
     "metadata": {},
     "output_type": "execute_result"
    }
   ],
   "source": [
    "(56-19.70)/12.49"
   ]
  },
  {
   "cell_type": "code",
   "execution_count": 16,
   "metadata": {
    "ExecuteTime": {
     "end_time": "2023-09-25T15:37:11.466472Z",
     "start_time": "2023-09-25T15:37:11.449959Z"
    }
   },
   "outputs": [
    {
     "data": {
      "text/plain": [
       "-0.6164931945556444"
      ]
     },
     "execution_count": 16,
     "metadata": {},
     "output_type": "execute_result"
    }
   ],
   "source": [
    "(12-19.70)/12.49"
   ]
  },
  {
   "cell_type": "code",
   "execution_count": 24,
   "metadata": {
    "ExecuteTime": {
     "end_time": "2023-09-21T00:59:27.986422Z",
     "start_time": "2023-09-21T00:59:27.966405Z"
    }
   },
   "outputs": [
    {
     "data": {
      "text/plain": [
       "phd                1.970513e+01\n",
       "service            1.505128e+01\n",
       "salary             1.080238e+05\n",
       "z_score_phd        7.757328e-17\n",
       "z_score_service    6.375109e-17\n",
       "z_score_salary     1.679568e-16\n",
       "dtype: float64"
      ]
     },
     "execution_count": 24,
     "metadata": {},
     "output_type": "execute_result"
    }
   ],
   "source": [
    "df.mean()"
   ]
  },
  {
   "cell_type": "code",
   "execution_count": 25,
   "metadata": {
    "ExecuteTime": {
     "end_time": "2023-09-21T00:59:42.772678Z",
     "start_time": "2023-09-21T00:59:42.751275Z"
    }
   },
   "outputs": [
    {
     "data": {
      "text/plain": [
       "phd                   12.498425\n",
       "service               12.139768\n",
       "salary             28293.661022\n",
       "z_score_phd            1.000000\n",
       "z_score_service        1.000000\n",
       "z_score_salary         1.000000\n",
       "dtype: float64"
      ]
     },
     "execution_count": 25,
     "metadata": {},
     "output_type": "execute_result"
    }
   ],
   "source": [
    "df.std()"
   ]
  },
  {
   "cell_type": "code",
   "execution_count": 17,
   "metadata": {
    "ExecuteTime": {
     "end_time": "2023-09-25T15:47:44.045788Z",
     "start_time": "2023-09-25T15:47:43.934322Z"
    }
   },
   "outputs": [
    {
     "data": {
      "text/html": [
       "<div>\n",
       "<style scoped>\n",
       "    .dataframe tbody tr th:only-of-type {\n",
       "        vertical-align: middle;\n",
       "    }\n",
       "\n",
       "    .dataframe tbody tr th {\n",
       "        vertical-align: top;\n",
       "    }\n",
       "\n",
       "    .dataframe thead th {\n",
       "        text-align: right;\n",
       "    }\n",
       "</style>\n",
       "<table border=\"1\" class=\"dataframe\">\n",
       "  <thead>\n",
       "    <tr style=\"text-align: right;\">\n",
       "      <th></th>\n",
       "      <th>phd</th>\n",
       "      <th>service</th>\n",
       "      <th>salary</th>\n",
       "      <th>z_score_phd</th>\n",
       "      <th>z_score_service</th>\n",
       "      <th>z_score_salary</th>\n",
       "    </tr>\n",
       "  </thead>\n",
       "  <tbody>\n",
       "    <tr>\n",
       "      <th>count</th>\n",
       "      <td>78.000000</td>\n",
       "      <td>78.000000</td>\n",
       "      <td>78.000000</td>\n",
       "      <td>7.800000e+01</td>\n",
       "      <td>7.800000e+01</td>\n",
       "      <td>7.800000e+01</td>\n",
       "    </tr>\n",
       "    <tr>\n",
       "      <th>mean</th>\n",
       "      <td>19.705128</td>\n",
       "      <td>15.051282</td>\n",
       "      <td>108023.782051</td>\n",
       "      <td>7.757328e-17</td>\n",
       "      <td>6.375109e-17</td>\n",
       "      <td>1.679568e-16</td>\n",
       "    </tr>\n",
       "    <tr>\n",
       "      <th>std</th>\n",
       "      <td>12.498425</td>\n",
       "      <td>12.139768</td>\n",
       "      <td>28293.661022</td>\n",
       "      <td>1.000000e+00</td>\n",
       "      <td>1.000000e+00</td>\n",
       "      <td>1.000000e+00</td>\n",
       "    </tr>\n",
       "    <tr>\n",
       "      <th>min</th>\n",
       "      <td>1.000000</td>\n",
       "      <td>0.000000</td>\n",
       "      <td>57800.000000</td>\n",
       "      <td>-1.496599e+00</td>\n",
       "      <td>-1.239833e+00</td>\n",
       "      <td>-1.775090e+00</td>\n",
       "    </tr>\n",
       "    <tr>\n",
       "      <th>25%</th>\n",
       "      <td>10.250000</td>\n",
       "      <td>5.250000</td>\n",
       "      <td>88612.500000</td>\n",
       "      <td>-7.565056e-01</td>\n",
       "      <td>-8.073698e-01</td>\n",
       "      <td>-6.860647e-01</td>\n",
       "    </tr>\n",
       "    <tr>\n",
       "      <th>50%</th>\n",
       "      <td>18.500000</td>\n",
       "      <td>14.500000</td>\n",
       "      <td>104671.000000</td>\n",
       "      <td>-9.642241e-02</td>\n",
       "      <td>-4.541125e-02</td>\n",
       "      <td>-1.184994e-01</td>\n",
       "    </tr>\n",
       "    <tr>\n",
       "      <th>75%</th>\n",
       "      <td>27.750000</td>\n",
       "      <td>20.750000</td>\n",
       "      <td>126774.750000</td>\n",
       "      <td>6.436709e-01</td>\n",
       "      <td>4.694256e-01</td>\n",
       "      <td>6.627268e-01</td>\n",
       "    </tr>\n",
       "    <tr>\n",
       "      <th>max</th>\n",
       "      <td>56.000000</td>\n",
       "      <td>51.000000</td>\n",
       "      <td>186960.000000</td>\n",
       "      <td>2.903956e+00</td>\n",
       "      <td>2.961236e+00</td>\n",
       "      <td>2.789891e+00</td>\n",
       "    </tr>\n",
       "  </tbody>\n",
       "</table>\n",
       "</div>"
      ],
      "text/plain": [
       "             phd    service         salary   z_score_phd  z_score_service  \\\n",
       "count  78.000000  78.000000      78.000000  7.800000e+01     7.800000e+01   \n",
       "mean   19.705128  15.051282  108023.782051  7.757328e-17     6.375109e-17   \n",
       "std    12.498425  12.139768   28293.661022  1.000000e+00     1.000000e+00   \n",
       "min     1.000000   0.000000   57800.000000 -1.496599e+00    -1.239833e+00   \n",
       "25%    10.250000   5.250000   88612.500000 -7.565056e-01    -8.073698e-01   \n",
       "50%    18.500000  14.500000  104671.000000 -9.642241e-02    -4.541125e-02   \n",
       "75%    27.750000  20.750000  126774.750000  6.436709e-01     4.694256e-01   \n",
       "max    56.000000  51.000000  186960.000000  2.903956e+00     2.961236e+00   \n",
       "\n",
       "       z_score_salary  \n",
       "count    7.800000e+01  \n",
       "mean     1.679568e-16  \n",
       "std      1.000000e+00  \n",
       "min     -1.775090e+00  \n",
       "25%     -6.860647e-01  \n",
       "50%     -1.184994e-01  \n",
       "75%      6.627268e-01  \n",
       "max      2.789891e+00  "
      ]
     },
     "execution_count": 17,
     "metadata": {},
     "output_type": "execute_result"
    }
   ],
   "source": [
    "df.describe()"
   ]
  },
  {
   "cell_type": "code",
   "execution_count": 26,
   "metadata": {
    "ExecuteTime": {
     "end_time": "2023-09-21T01:02:09.056597Z",
     "start_time": "2023-09-21T01:02:07.822415Z"
    }
   },
   "outputs": [],
   "source": [
    "import matplotlib.pyplot as plt"
   ]
  },
  {
   "cell_type": "code",
   "execution_count": 34,
   "metadata": {
    "ExecuteTime": {
     "end_time": "2023-09-21T01:04:51.042177Z",
     "start_time": "2023-09-21T01:04:50.894877Z"
    }
   },
   "outputs": [
    {
     "data": {
      "image/png": "[encoded data removed]",
      "text/plain": [
       "<Figure size 432x288 with 1 Axes>"
      ]
     },
     "metadata": {
      "needs_background": "light"
     },
     "output_type": "display_data"
    }
   ],
   "source": [
    "# Create a histogram of z-scores\n",
    "plt.hist(df['z_score_phd'], bins=20, color='orange', edgecolor='black', alpha=0.7)\n",
    "\n",
    "# Add labels and a title\n",
    "plt.xlabel('Z-Score')\n",
    "plt.ylabel('Frequency')\n",
    "plt.title('Z-Score Distribution')\n",
    "\n",
    "# Show the plot\n",
    "plt.show()"
   ]
  },
  {
   "cell_type": "code",
   "execution_count": 33,
   "metadata": {
    "ExecuteTime": {
     "end_time": "2023-09-21T01:04:38.920400Z",
     "start_time": "2023-09-21T01:04:38.738782Z"
    }
   },
   "outputs": [
    {
     "data": {
      "image/png": "[encoded data removed]",
      "text/plain": [
       "<Figure size 432x288 with 1 Axes>"
      ]
     },
     "metadata": {
      "needs_background": "light"
     },
     "output_type": "display_data"
    }
   ],
   "source": [
    "# Create a histogram of z-scores\n",
    "plt.hist(df['z_score_service'], bins=20, color='peru', edgecolor='black', alpha=0.7)\n",
    "\n",
    "# Add labels and a title\n",
    "plt.xlabel('Z-Score')\n",
    "plt.ylabel('Frequency')\n",
    "plt.title('Z-Score Distribution')\n",
    "\n",
    "# Show the plot\n",
    "plt.show()"
   ]
  },
  {
   "cell_type": "code",
   "execution_count": 32,
   "metadata": {
    "ExecuteTime": {
     "end_time": "2023-09-21T01:04:26.390049Z",
     "start_time": "2023-09-21T01:04:26.233256Z"
    }
   },
   "outputs": [
    {
     "data": {
      "image/png": "[encoded data removed]",
      "text/plain": [
       "<Figure size 432x288 with 1 Axes>"
      ]
     },
     "metadata": {
      "needs_background": "light"
     },
     "output_type": "display_data"
    }
   ],
   "source": [
    "# Create a histogram of z-scores\n",
    "plt.hist(df['z_score_salary'], bins=20, color='green', edgecolor='black', alpha=0.7)\n",
    "\n",
    "# Add labels and a title\n",
    "plt.xlabel('Z-Score')\n",
    "plt.ylabel('Frequency')\n",
    "plt.title('Z-Score Distribution')\n",
    "\n",
    "# Show the plot\n",
    "plt.show()"
   ]
  },
  {
   "cell_type": "code",
   "execution_count": null,
   "metadata": {},
   "outputs": [],
   "source": []
  }
 ],
 "metadata": {
  "kernelspec": {
   "display_name": "Python 3",
   "language": "python",
   "name": "python3"
  },
  "language_info": {
   "codemirror_mode": {
    "name": "ipython",
    "version": 3
   },
   "file_extension": ".py",
   "mimetype": "text/x-python",
   "name": "python",
   "nbconvert_exporter": "python",
   "pygments_lexer": "ipython3",
   "version": "3.8.5"
  },
  "toc": {
   "base_numbering": 1,
   "nav_menu": {},
   "number_sections": true,
   "sideBar": true,
   "skip_h1_title": false,
   "title_cell": "Table of Contents",
   "title_sidebar": "Contents",
   "toc_cell": false,
   "toc_position": {},
   "toc_section_display": true,
   "toc_window_display": false
  }
 },
 "nbformat": 4,
 "nbformat_minor": 4
}
